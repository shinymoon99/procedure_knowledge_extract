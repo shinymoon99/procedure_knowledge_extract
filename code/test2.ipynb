{
 "cells": [
  {
   "cell_type": "code",
   "execution_count": 2,
   "metadata": {},
   "outputs": [
    {
     "name": "stdout",
     "output_type": "stream",
     "text": [
      "不is alpha\n",
      "True\n",
      "False\n"
     ]
    }
   ],
   "source": [
    "def combineTokens2Sen(tokens):\n",
    "    result = \"\"\n",
    "    for i in range(len(tokens)):\n",
    "        if i > 0 and any(c.isalpha() for c in tokens[i-1]) and any(c.isalpha() for c in tokens[i]):\n",
    "            result += \" \"  # Add a space between tokens with English letters\n",
    "        result += tokens[i]\n",
    "    return result\n",
    "def contains_english_alpha(s):\n",
    "    for c in s:\n",
    "        if c.isalpha() and c.isascii():\n",
    "            return True\n",
    "    return False\n",
    "test = \"不可傲慢\"\n",
    "t = [i for i in test]\n",
    "if test[0].isalpha():\n",
    "    print(test[0]+\"is alpha\")\n",
    "print(\"我\".isalpha())\n",
    "print(contains_english_alpha(\"我爱\"))"
   ]
  },
  {
   "cell_type": "code",
   "execution_count": 3,
   "metadata": {},
   "outputs": [
    {
     "name": "stdout",
     "output_type": "stream",
     "text": [
      "<re.Match object; span=(0, 2), match='发现'>\n"
     ]
    }
   ],
   "source": [
    "import re\n",
    "s = \"发现发现\"\n",
    "t =\"发现\"\n",
    "a = re.match(t,s)\n",
    "print(a)"
   ]
  },
  {
   "cell_type": "code",
   "execution_count": 4,
   "metadata": {},
   "outputs": [
    {
     "name": "stdout",
     "output_type": "stream",
     "text": [
      "Match found at index 0\n",
      "Match found at index 14\n"
     ]
    }
   ],
   "source": [
    "import re\n",
    "\n",
    "my_str = \"Hello, world! Hello, Python!\"\n",
    "pattern = r\"Hello\"\n",
    "\n",
    "matches = re.finditer(pattern, my_str)\n",
    "\n",
    "for match in matches:\n",
    "    print(f\"Match found at index {match.start()}\")"
   ]
  },
  {
   "cell_type": "code",
   "execution_count": 1,
   "metadata": {},
   "outputs": [
    {
     "name": "stdout",
     "output_type": "stream",
     "text": [
      "[('z', 26), ('y', 25), ('x', 24), ('w', 23), ('v', 22), ('u', 21), ('t', 20), ('s', 19), ('r', 18), ('q', 17), ('p', 16), ('o', 15), ('n', 14), ('m', 13), ('l', 12), ('k', 11), ('j', 10), ('i', 9), ('h', 8), ('g', 7)]\n"
     ]
    }
   ],
   "source": [
    "my_dict = {\"a\": 1, \"b\": 2, \"c\": 3, \"d\": 4, \"e\": 5, \"f\": 6, \"g\": 7, \"h\": 8, \"i\": 9, \"j\": 10, \"k\": 11, \"l\": 12, \"m\": 13, \"n\": 14, \"o\": 15, \"p\": 16, \"q\": 17, \"r\": 18, \"s\": 19, \"t\": 20, \"u\": 21, \"v\": 22, \"w\": 23, \"x\": 24, \"y\": 25, \"z\": 26}\n",
    "\n",
    "# Get the items with the highest 20 values\n",
    "top_items = sorted(my_dict.items(), key=lambda x: x[1], reverse=True)[:20]\n",
    "\n",
    "print(top_items)"
   ]
  }
 ],
 "metadata": {
  "kernelspec": {
   "display_name": "pke",
   "language": "python",
   "name": "python3"
  },
  "language_info": {
   "codemirror_mode": {
    "name": "ipython",
    "version": 3
   },
   "file_extension": ".py",
   "mimetype": "text/x-python",
   "name": "python",
   "nbconvert_exporter": "python",
   "pygments_lexer": "ipython3",
   "version": "3.9.17"
  },
  "orig_nbformat": 4
 },
 "nbformat": 4,
 "nbformat_minor": 2
}
